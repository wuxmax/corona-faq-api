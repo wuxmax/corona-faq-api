{
 "cells": [
  {
   "cell_type": "code",
   "execution_count": 1,
   "metadata": {
    "ExecuteTime": {
     "end_time": "2021-01-07T13:12:57.857863Z",
     "start_time": "2021-01-07T13:12:57.731667Z"
    }
   },
   "outputs": [],
   "source": [
    "from bs4 import BeautifulSoup"
   ]
  },
  {
   "cell_type": "code",
   "execution_count": 2,
   "metadata": {
    "ExecuteTime": {
     "end_time": "2021-01-07T13:12:57.863436Z",
     "start_time": "2021-01-07T13:12:57.860316Z"
    }
   },
   "outputs": [],
   "source": [
    "from IPython.display import display, HTML"
   ]
  },
  {
   "cell_type": "code",
   "execution_count": 3,
   "metadata": {
    "ExecuteTime": {
     "end_time": "2021-01-07T13:12:58.002757Z",
     "start_time": "2021-01-07T13:12:57.868234Z"
    }
   },
   "outputs": [],
   "source": [
    "from models import FAQ\n",
    "from utils import get_html, question2label"
   ]
  },
  {
   "cell_type": "code",
   "execution_count": 4,
   "metadata": {
    "ExecuteTime": {
     "end_time": "2021-01-07T13:12:58.009506Z",
     "start_time": "2021-01-07T13:12:58.006106Z"
    }
   },
   "outputs": [],
   "source": [
    "source_id = \"st\"\n",
    "source_name = \"Landesportal Sachsen-Anhalt\"\n",
    "root_url = \"https://www.niedersachsen.de/Coronavirus/\"\n",
    "source_url = root_url + \"antworten-auf-haufig-gestellte-fragen-faq-185463.html\""
   ]
  },
  {
   "cell_type": "code",
   "execution_count": 53,
   "metadata": {
    "ExecuteTime": {
     "end_time": "2021-01-07T14:53:35.933686Z",
     "start_time": "2021-01-07T14:53:35.923608Z"
    }
   },
   "outputs": [],
   "source": [
    "def is_question_tag(tag):\n",
    "    if tag.string: return tag.string.strip().endswith(\"?\")\n",
    "    else: return False\n",
    "\n",
    "def is_stop_signal(tag):\n",
    "    return tag.name == \"hr\" or tag.string == \"Bildergalerie:\"\n",
    "\n",
    "def make_faq(question_tag, answer_tags, faqs):    \n",
    "    answer_html = \"\".join(str(tag) for tag in answer_tags)\n",
    "    answer_soup = BeautifulSoup(answer_html, features=\"lxml\")\n",
    "\n",
    "    faq = {}\n",
    "\n",
    "    faq[\"q_txt\"]: str = question_tag.get_text().strip()\n",
    "    faq[\"a_html\"]: str = answer_soup.encode_contents()\n",
    "    faq[\"a_txt\"]: str = answer_soup.get_text().strip()\n",
    "    faq[\"src_id\"] = source_id\n",
    "    faq[\"src_url\"]: str = source_url\n",
    "    faq[\"src_name\"]: str = source_name\n",
    "    faq[\"id\"]: str = question2label(faq[\"src_id\"], faq[\"q_txt\"])\n",
    "    faq[\"nationwide\"] = False \n",
    "\n",
    "    faqs.append(FAQ(**faq))\n",
    "    "
   ]
  },
  {
   "cell_type": "code",
   "execution_count": 92,
   "metadata": {
    "ExecuteTime": {
     "end_time": "2021-01-07T15:41:04.899475Z",
     "start_time": "2021-01-07T15:41:04.887877Z"
    }
   },
   "outputs": [],
   "source": [
    "from copy import copy\n",
    "\n",
    "def get_faq():\n",
    "    html = get_html(source_url)\n",
    "    soup = BeautifulSoup(html, features=\"lxml\")\n",
    "    \n",
    "    article_div = soup.find(\"div\", class_=\"articleContent\")\n",
    "    section_divs = article_div.select(\"div.group.section.noline.span3of4\")\n",
    "    \n",
    "    # extract section divs from orginal tree to constrain tag interation\n",
    "    # leave out last section because it contains teaser for topic faqs\n",
    "    section_divs_extracted = [section_div.extract() for section_div in section_divs[:-1]]\n",
    "\n",
    "    faqs = []\n",
    "\n",
    "    for section_div in section_divs_extracted:\n",
    "        \n",
    "        # only consider section if it contains at least one question\n",
    "        first_question_tag = section_div.find(is_question_tag)\n",
    "        if first_question_tag:\n",
    "\n",
    "            question_tag = first_question_tag\n",
    "            answer_tags = []\n",
    "            \n",
    "            current_tag = first_question_tag\n",
    "            skip = False\n",
    "\n",
    "            # iterate trought tags of the section, decompose all processed tags\n",
    "            # skip tags until first question is found\n",
    "            # skip tags after stop signal is found, until next question is found\n",
    "            # collect all other non-question tags for answer\n",
    "            while current_tag:\n",
    "                \n",
    "                #if is_question_tag(current_tag): print(current_tag)\n",
    "            \n",
    "                if not skip and not is_question_tag(current_tag) and not is_stop_signal(current_tag): \n",
    "                    answer_tags.append(copy(current_tag))\n",
    "                elif not skip and is_stop_signal(current_tag):\n",
    "                    make_faq(question_tag, answer_tags, faqs)\n",
    "                    skip = True\n",
    "                elif is_question_tag(current_tag):\n",
    "                    if not skip: make_faq(question_tag, answer_tags, faqs)\n",
    "                    skip = False\n",
    "                    \n",
    "                    question_tag = copy(current_tag)\n",
    "                    answer_tags = []\n",
    "                      \n",
    "                # current_tag.decompose()    \n",
    "                current_tag = current_tag.find_next(True)\n",
    "\n",
    "    return faqs"
   ]
  },
  {
   "cell_type": "code",
   "execution_count": 93,
   "metadata": {
    "ExecuteTime": {
     "end_time": "2021-01-07T15:41:05.396045Z",
     "start_time": "2021-01-07T15:41:04.904144Z"
    }
   },
   "outputs": [
    {
     "ename": "UnboundLocalError",
     "evalue": "local variable 'question_tag' referenced before assignment",
     "output_type": "error",
     "traceback": [
      "\u001b[0;31m---------------------------------------------------------------------------\u001b[0m",
      "\u001b[0;31mUnboundLocalError\u001b[0m                         Traceback (most recent call last)",
      "\u001b[0;32m<ipython-input-93-34ba979f9375>\u001b[0m in \u001b[0;36m<module>\u001b[0;34m\u001b[0m\n\u001b[0;32m----> 1\u001b[0;31m \u001b[0mfaqs_\u001b[0m \u001b[0;34m=\u001b[0m \u001b[0mget_faq\u001b[0m\u001b[0;34m(\u001b[0m\u001b[0;34m)\u001b[0m\u001b[0;34m\u001b[0m\u001b[0;34m\u001b[0m\u001b[0m\n\u001b[0m\u001b[1;32m      2\u001b[0m \u001b[0mlen\u001b[0m\u001b[0;34m(\u001b[0m\u001b[0mfaqs_\u001b[0m\u001b[0;34m)\u001b[0m\u001b[0;34m\u001b[0m\u001b[0;34m\u001b[0m\u001b[0m\n",
      "\u001b[0;32m<ipython-input-92-f8e551beebe1>\u001b[0m in \u001b[0;36mget_faq\u001b[0;34m()\u001b[0m\n\u001b[1;32m     40\u001b[0m                     \u001b[0mskip\u001b[0m \u001b[0;34m=\u001b[0m \u001b[0;32mTrue\u001b[0m\u001b[0;34m\u001b[0m\u001b[0;34m\u001b[0m\u001b[0m\n\u001b[1;32m     41\u001b[0m                 \u001b[0;32melif\u001b[0m \u001b[0mis_question_tag\u001b[0m\u001b[0;34m(\u001b[0m\u001b[0mcurrent_tag\u001b[0m\u001b[0;34m)\u001b[0m\u001b[0;34m:\u001b[0m\u001b[0;34m\u001b[0m\u001b[0;34m\u001b[0m\u001b[0m\n\u001b[0;32m---> 42\u001b[0;31m                     \u001b[0;32mif\u001b[0m \u001b[0;32mnot\u001b[0m \u001b[0mskip\u001b[0m\u001b[0;34m:\u001b[0m \u001b[0mmake_faq\u001b[0m\u001b[0;34m(\u001b[0m\u001b[0mquestion_tag\u001b[0m\u001b[0;34m,\u001b[0m \u001b[0manswer_tags\u001b[0m\u001b[0;34m,\u001b[0m \u001b[0mfaqs\u001b[0m\u001b[0;34m)\u001b[0m\u001b[0;34m\u001b[0m\u001b[0;34m\u001b[0m\u001b[0m\n\u001b[0m\u001b[1;32m     43\u001b[0m                     \u001b[0mskip\u001b[0m \u001b[0;34m=\u001b[0m \u001b[0;32mFalse\u001b[0m\u001b[0;34m\u001b[0m\u001b[0;34m\u001b[0m\u001b[0m\n\u001b[1;32m     44\u001b[0m \u001b[0;34m\u001b[0m\u001b[0m\n",
      "\u001b[0;31mUnboundLocalError\u001b[0m: local variable 'question_tag' referenced before assignment"
     ]
    }
   ],
   "source": [
    "faqs_ = get_faq()\n",
    "len(faqs_)"
   ]
  },
  {
   "cell_type": "code",
   "execution_count": null,
   "metadata": {
    "ExecuteTime": {
     "end_time": "2021-01-07T15:41:05.400959Z",
     "start_time": "2021-01-07T15:41:04.895Z"
    }
   },
   "outputs": [],
   "source": [
    "test_id = 2\n",
    "\n",
    "print(faqs_[test_id].src_url)\n",
    "print(\"---\")\n",
    "print(faqs_[test_id].q_txt)\n",
    "print(\"---\")\n",
    "print(faqs_[test_id].a_txt)\n",
    "print(\"---\")\n",
    "display(HTML(faqs_[test_id].a_html))"
   ]
  },
  {
   "cell_type": "code",
   "execution_count": null,
   "metadata": {
    "ExecuteTime": {
     "end_time": "2021-01-07T15:41:05.402271Z",
     "start_time": "2021-01-07T15:41:04.903Z"
    }
   },
   "outputs": [],
   "source": [
    "query_question = \"Kultureinrichtungen und Kulturschaffende\"\n",
    "\n",
    "faq = [faq for faq in faqs_ if faq.q_txt == query_question][0]\n",
    "\n",
    "print(faq.a_txt)\n",
    "print(\"-----\")\n",
    "display(HTML(faq.a_html))"
   ]
  },
  {
   "cell_type": "code",
   "execution_count": null,
   "metadata": {},
   "outputs": [],
   "source": []
  }
 ],
 "metadata": {
  "kernelspec": {
   "display_name": "corona-faq-scraper",
   "language": "python",
   "name": "corona-faq-scraper"
  },
  "language_info": {
   "codemirror_mode": {
    "name": "ipython",
    "version": 3
   },
   "file_extension": ".py",
   "mimetype": "text/x-python",
   "name": "python",
   "nbconvert_exporter": "python",
   "pygments_lexer": "ipython3",
   "version": "3.8.5"
  },
  "varInspector": {
   "cols": {
    "lenName": 16,
    "lenType": 16,
    "lenVar": 40
   },
   "kernels_config": {
    "python": {
     "delete_cmd_postfix": "",
     "delete_cmd_prefix": "del ",
     "library": "var_list.py",
     "varRefreshCmd": "print(var_dic_list())"
    },
    "r": {
     "delete_cmd_postfix": ") ",
     "delete_cmd_prefix": "rm(",
     "library": "var_list.r",
     "varRefreshCmd": "cat(var_dic_list()) "
    }
   },
   "position": {
    "height": "512.85px",
    "left": "1579px",
    "right": "20px",
    "top": "120px",
    "width": "321px"
   },
   "types_to_exclude": [
    "module",
    "function",
    "builtin_function_or_method",
    "instance",
    "_Feature"
   ],
   "window_display": true
  }
 },
 "nbformat": 4,
 "nbformat_minor": 4
}
