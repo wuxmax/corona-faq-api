{
 "cells": [
  {
   "cell_type": "code",
   "execution_count": 1,
   "metadata": {
    "ExecuteTime": {
     "end_time": "2021-01-08T12:23:10.286262Z",
     "start_time": "2021-01-08T12:23:10.161267Z"
    }
   },
   "outputs": [],
   "source": [
    "from bs4 import BeautifulSoup"
   ]
  },
  {
   "cell_type": "code",
   "execution_count": 2,
   "metadata": {
    "ExecuteTime": {
     "end_time": "2021-01-08T12:23:10.292448Z",
     "start_time": "2021-01-08T12:23:10.289381Z"
    }
   },
   "outputs": [],
   "source": [
    "from IPython.display import display, HTML"
   ]
  },
  {
   "cell_type": "code",
   "execution_count": 3,
   "metadata": {
    "ExecuteTime": {
     "end_time": "2021-01-08T12:23:10.412434Z",
     "start_time": "2021-01-08T12:23:10.296267Z"
    }
   },
   "outputs": [],
   "source": [
    "from models import FAQ\n",
    "from utils import get_html, question2label"
   ]
  },
  {
   "cell_type": "code",
   "execution_count": 30,
   "metadata": {
    "ExecuteTime": {
     "end_time": "2021-01-08T13:49:40.671779Z",
     "start_time": "2021-01-08T13:49:40.667064Z"
    }
   },
   "outputs": [],
   "source": [
    "source_id = \"he\"\n",
    "source_name = \"Hessische Landesregierung\"\n",
    "source_url = \"https://www.hessen.de/fuer-buerger/corona-hessen/fragen-und-antworten-zu-den-wichtigsten-regelungen\""
   ]
  },
  {
   "cell_type": "code",
   "execution_count": 49,
   "metadata": {
    "ExecuteTime": {
     "end_time": "2021-01-08T14:09:17.647047Z",
     "start_time": "2021-01-08T14:09:17.636649Z"
    }
   },
   "outputs": [],
   "source": [
    "import re\n",
    "\n",
    "enumeration_regex = re.compile(r'[1-9]+\\. ')\n",
    "\n",
    "def remove_enumeration(string: str):\n",
    "    return enumeration_regex.sub(\"\", string)\n",
    "\n",
    "def is_enumeration_tag(tag):\n",
    "    if tag.string: return enumeration_regex.match(tag.string)\n",
    "    \n",
    "\n",
    "def is_question_tag(tag):\n",
    "    if tag.string: return tag.string.strip().endswith(\"?\")\n",
    "    else: return False\n",
    "\n",
    "def is_stop_signal(tag):\n",
    "    return tag.name == \"hr\" or tag.string == \"Bildergalerie:\"\n",
    "\n",
    "def make_faq(question_tag, answer_tag, faqs):    \n",
    "    faq = {}\n",
    "        \n",
    "    faq[\"q_txt\"]: str = question_tag.get_text().strip()\n",
    "    faq[\"a_html\"]: str = answer_tag.encode_contents()\n",
    "    faq[\"a_txt\"]: str = answer_tag.get_text().strip()\n",
    "    faq[\"src_id\"] = source_id\n",
    "    faq[\"src_url\"]: str = source_url\n",
    "    faq[\"src_name\"]: str = source_name\n",
    "    faq[\"id\"]: str = question2label(faq[\"src_id\"], faq[\"q_txt\"])\n",
    "    faq[\"nationwide\"] = False \n",
    "\n",
    "    faqs.append(FAQ(**faq))    "
   ]
  },
  {
   "cell_type": "code",
   "execution_count": 57,
   "metadata": {
    "ExecuteTime": {
     "end_time": "2021-01-08T14:14:18.863386Z",
     "start_time": "2021-01-08T14:14:18.699787Z"
    }
   },
   "outputs": [],
   "source": [
    "html = get_html(source_url)\n",
    "soup = BeautifulSoup(html, features=\"lxml\")"
   ]
  },
  {
   "cell_type": "code",
   "execution_count": 64,
   "metadata": {
    "ExecuteTime": {
     "end_time": "2021-01-08T14:34:02.742420Z",
     "start_time": "2021-01-08T14:34:02.711581Z"
    }
   },
   "outputs": [
    {
     "name": "stdout",
     "output_type": "stream",
     "text": [
      "https://www.hessen.de/fuer-buerger/corona-hessen/fragen-und-antworten-zu-den-wichtigsten-regelungen\n",
      "---\n",
      "Kontaktbeschränkungen: Wen darf ich wo treffen?\n",
      "---\n",
      "Der Aufenthalt im öffentlichen Raum ist nur alleine, mit den Angehörigen des eigenen und eines weiteren Hausstandes bis zu einer Gruppengröße von höchstens fünf Personen gestattet; dazugehörige Kinder bis zum Alter von einschließlich 14 Jahren bleiben unberücksichtigt. Bei Begegnungen mit anderen Personen ist ein Mindestabstand von 1,5 Metern einzuhalten. Öffentliche Verhaltensweisen wie beispielsweise Tanzveranstaltungen, die generell dazu geeignet sind, das Abstandsgebot zu gefährden, sind unabhängig von der Personenzahl untersagt.  Das gemeinsame Feiern im öffentlichen Raum ist untersagt. Der Verzehr von alkoholischen Getränken im öffentlichen Raum ist untersagt. Verstöße werden mit einem Bußgeld belegt. Ab dem 11. Januar 2021 gilt: Private Treffen dürfen dann mit nur noch einem Hausstand und einer weiteren Person stattfinden. Kinder zählen mit. Das ist die Regelung, die im Frühjahr 2020 auch so gegolten hat. Weiterhin erlaubt ist wie bisher die Begleitung und Betreuung minderjähriger oder unterstützungsbedürftiger Personen. Die Einschränkung gilt auch nicht im Rahmen der gegenseitigen Übernahme der Kinderbetreuung durch höchstens drei Familien (familiäre Betreuungsgemeinschaft), wenn die sozialen Kontakte im Übrigen nach Möglichkeit reduziert werden. Um bspw. Tagesausflüge und überlaufene touristische Ziele zu vermeiden, wird für Gebiete mit einer Inzidenz von über 200 der Bewegungsradius auf 15 Kilometer eingeschränkt.\n",
      "---\n"
     ]
    },
    {
     "data": {
      "text/html": [
       "<html><body><p>Der <strong>Aufenthalt im öffentlichen Raum ist nur alleine, mit den Angehörigen des eigenen und eines weiteren Hausstandes bis zu einer Gruppengröße von höchstens fünf Personen gestattet; dazugehörige Kinder bis zum Alter von einschließlich 14 Jahren bleiben unberücksichtigt</strong>. Bei Begegnungen mit anderen Personen ist ein Mindestabstand von 1,5 Metern einzuhalten. Öffentliche Verhaltensweisen wie beispielsweise Tanzveranstaltungen, die generell dazu geeignet sind, das Abstandsgebot zu gefährden, sind unabhängig von der Personenzahl untersagt.  <strong>Das gemeinsame Feiern im öffentlichen Raum ist untersagt.</strong> <strong>Der Verzehr von alkoholischen Getränken im öffentlichen Raum ist untersagt.</strong> Verstöße werden mit einem Bußgeld belegt.</p> <h3>Ab dem 11. Januar 2021 gilt:</h3> <p>Private Treffen dürfen dann mit nur noch einem Hausstand und einer weiteren Person stattfinden. Kinder zählen mit. Das ist die Regelung, die im Frühjahr 2020 auch so gegolten hat. Weiterhin erlaubt ist wie bisher die Begleitung und Betreuung minderjähriger oder unterstützungsbedürftiger Personen. Die Einschränkung gilt auch nicht im Rahmen der gegenseitigen Übernahme der Kinderbetreuung durch höchstens drei Familien (familiäre Betreuungsgemeinschaft), wenn die sozialen Kontakte im Übrigen nach Möglichkeit reduziert werden.</p> <p>Um bspw. Tagesausflüge und überlaufene touristische Ziele zu vermeiden, wird für Gebiete mit einer Inzidenz von über 200 der Bewegungsradius auf 15 Kilometer eingeschränkt.</p> </body></html>"
      ],
      "text/plain": [
       "<IPython.core.display.HTML object>"
      ]
     },
     "metadata": {},
     "output_type": "display_data"
    }
   ],
   "source": [
    "content_div = soup.find(\"div\", class_=\"he_content_body\")\n",
    "topic_links = content_div.find(\"ul\").find_all(\"a\")\n",
    "\n",
    "h3_tags = content_div.find_all(\"h3\")\n",
    "question_tags = [tag for tag in h3_tags if is_question_tag(tag)]\n",
    "\n",
    "faqs = []\n",
    "\n",
    "for question_tag in question_tags:\n",
    "    answer_tags = []\n",
    "    for tag in question_tag.next_siblings:\n",
    "        if is_question_tag(tag):\n",
    "            if len(answer_tags) > 1:\n",
    "                answer_html = \"\".join(str(tag) for tag in answer_tags)\n",
    "                answer_soup = BeautifulSoup(answer_html, features=\"lxml\")\n",
    "            else:\n",
    "                answer_soup = answer_tags[0]\n",
    "\n",
    "            make_faq(question_tag, answer_soup, faqs)\n",
    "\n",
    "            break\n",
    "        else:\n",
    "            answer_tags.append(tag)\n",
    "        \n",
    "print(faqs[0].src_url)\n",
    "print(\"---\")\n",
    "print(faqs[0].q_txt)\n",
    "print(\"---\")\n",
    "print(faqs[0].a_txt)\n",
    "print(\"---\")\n",
    "display(HTML(faqs[0].a_html))\n",
    "\n",
    "\n"
   ]
  },
  {
   "cell_type": "code",
   "execution_count": null,
   "metadata": {},
   "outputs": [],
   "source": []
  },
  {
   "cell_type": "code",
   "execution_count": 68,
   "metadata": {
    "ExecuteTime": {
     "end_time": "2021-01-08T14:37:05.758411Z",
     "start_time": "2021-01-08T14:37:05.748352Z"
    }
   },
   "outputs": [],
   "source": [
    "def get_faq():\n",
    "    html = get_html(source_url)\n",
    "    soup = BeautifulSoup(html, features=\"lxml\")\n",
    "    \n",
    "    content_div = soup.find(\"div\", class_=\"he_content_body\")\n",
    "    topic_links = content_div.find(\"ul\").find_all(\"a\")\n",
    "\n",
    "    h3_tags = content_div.find_all(\"h3\")\n",
    "    # question_tags = [tag for tag in h3_tags if is_question_tag(tag)]\n",
    "    question_tags = h3_tags[1:-2]\n",
    "\n",
    "    faqs = []\n",
    "\n",
    "    for question_tag in question_tags:\n",
    "        answer_tags = []\n",
    "        for tag in question_tag.next_siblings:\n",
    "            if is_question_tag(tag):\n",
    "                if len(answer_tags) > 1:\n",
    "                    answer_html = \"\".join(str(tag) for tag in answer_tags)\n",
    "                    answer_soup = BeautifulSoup(answer_html, features=\"lxml\")\n",
    "                else:\n",
    "                    answer_soup = answer_tags[0]\n",
    "\n",
    "                make_faq(question_tag, answer_soup, faqs)\n",
    "\n",
    "                break\n",
    "            else:\n",
    "                answer_tags.append(tag)\n",
    "            \n",
    "    return faqs"
   ]
  },
  {
   "cell_type": "code",
   "execution_count": 67,
   "metadata": {
    "ExecuteTime": {
     "end_time": "2021-01-08T14:35:00.041904Z",
     "start_time": "2021-01-08T14:34:59.849092Z"
    }
   },
   "outputs": [
    {
     "data": {
      "text/plain": [
       "8"
      ]
     },
     "execution_count": 67,
     "metadata": {},
     "output_type": "execute_result"
    }
   ],
   "source": [
    "faqs_ = get_faq()\n",
    "len(faqs_)"
   ]
  },
  {
   "cell_type": "code",
   "execution_count": null,
   "metadata": {
    "ExecuteTime": {
     "end_time": "2021-01-08T13:49:41.076327Z",
     "start_time": "2021-01-08T13:49:40.688Z"
    }
   },
   "outputs": [],
   "source": [
    "test_id = 17\n",
    "\n",
    "print(faqs_[test_id].src_url)\n",
    "print(\"---\")\n",
    "print(faqs_[test_id].q_txt)\n",
    "print(\"---\")\n",
    "print(faqs_[test_id].a_txt)\n",
    "print(\"---\")\n",
    "display(HTML(faqs_[test_id].a_html))"
   ]
  },
  {
   "cell_type": "code",
   "execution_count": null,
   "metadata": {
    "ExecuteTime": {
     "end_time": "2021-01-08T13:49:41.078311Z",
     "start_time": "2021-01-08T13:49:40.692Z"
    }
   },
   "outputs": [],
   "source": [
    "query_question = \"Kultureinrichtungen und Kulturschaffende\"\n",
    "\n",
    "faq = [faq for faq in faqs_ if faq.q_txt == query_question][0]\n",
    "\n",
    "print(faq.a_txt)\n",
    "print(\"-----\")\n",
    "display(HTML(faq.a_html))"
   ]
  },
  {
   "cell_type": "code",
   "execution_count": null,
   "metadata": {},
   "outputs": [],
   "source": []
  }
 ],
 "metadata": {
  "kernelspec": {
   "display_name": "corona-faq-scraper",
   "language": "python",
   "name": "corona-faq-scraper"
  },
  "language_info": {
   "codemirror_mode": {
    "name": "ipython",
    "version": 3
   },
   "file_extension": ".py",
   "mimetype": "text/x-python",
   "name": "python",
   "nbconvert_exporter": "python",
   "pygments_lexer": "ipython3",
   "version": "3.8.5"
  },
  "varInspector": {
   "cols": {
    "lenName": 16,
    "lenType": 16,
    "lenVar": 40
   },
   "kernels_config": {
    "python": {
     "delete_cmd_postfix": "",
     "delete_cmd_prefix": "del ",
     "library": "var_list.py",
     "varRefreshCmd": "print(var_dic_list())"
    },
    "r": {
     "delete_cmd_postfix": ") ",
     "delete_cmd_prefix": "rm(",
     "library": "var_list.r",
     "varRefreshCmd": "cat(var_dic_list()) "
    }
   },
   "position": {
    "height": "512.85px",
    "left": "1579px",
    "right": "20px",
    "top": "120px",
    "width": "321px"
   },
   "types_to_exclude": [
    "module",
    "function",
    "builtin_function_or_method",
    "instance",
    "_Feature"
   ],
   "window_display": false
  }
 },
 "nbformat": 4,
 "nbformat_minor": 4
}
