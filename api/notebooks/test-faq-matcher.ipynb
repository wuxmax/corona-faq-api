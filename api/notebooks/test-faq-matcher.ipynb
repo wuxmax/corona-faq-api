{
 "cells": [
  {
   "cell_type": "code",
   "execution_count": 15,
   "metadata": {
    "ExecuteTime": {
     "end_time": "2021-02-12T12:38:42.052866Z",
     "start_time": "2021-02-12T12:38:42.049351Z"
    }
   },
   "outputs": [],
   "source": [
    "import logging\n",
    "import sys\n",
    "\n",
    "import requests\n",
    "from requests import RequestException, HTTPError\n",
    "import pandas as pd"
   ]
  },
  {
   "cell_type": "code",
   "execution_count": 16,
   "metadata": {
    "ExecuteTime": {
     "end_time": "2021-02-12T12:38:42.069000Z",
     "start_time": "2021-02-12T12:38:42.065848Z"
    }
   },
   "outputs": [],
   "source": [
    "pd.options.display.max_colwidth = None"
   ]
  },
  {
   "cell_type": "code",
   "execution_count": 17,
   "metadata": {
    "ExecuteTime": {
     "end_time": "2021-02-12T12:38:42.076543Z",
     "start_time": "2021-02-12T12:38:42.072707Z"
    }
   },
   "outputs": [],
   "source": [
    "logger = logging.getLogger()"
   ]
  },
  {
   "cell_type": "code",
   "execution_count": 18,
   "metadata": {
    "ExecuteTime": {
     "end_time": "2021-02-12T12:38:42.084005Z",
     "start_time": "2021-02-12T12:38:42.080900Z"
    }
   },
   "outputs": [],
   "source": [
    "MATCH_FAQS_API_URL = \"http://localhost:8088/match_faqs\"\n",
    "RUN_SCRAPERS_API_URL = \"http://localhost:8088/run_scrapers?update_index=true&return_faqs=false\""
   ]
  },
  {
   "cell_type": "code",
   "execution_count": null,
   "metadata": {
    "ExecuteTime": {
     "start_time": "2021-02-12T12:38:42.065Z"
    }
   },
   "outputs": [],
   "source": [
    "# run scrapers (is not needed every time)\n",
    "response = requests.get(RUN_SCRAPERS_API_URL)\n",
    "response.json()['scraper_status']"
   ]
  },
  {
   "cell_type": "code",
   "execution_count": null,
   "metadata": {
    "ExecuteTime": {
     "start_time": "2021-02-12T12:38:42.068Z"
    }
   },
   "outputs": [],
   "source": [
    "TEST_SEARCHES = [\n",
    "    {\"search_string\": \"Was ist Corona?\", \"nationwide_only\": True},\n",
    "    {\"search_string\": \"Kann man sich durch Gegenstände anstecken?\", \"nationwide_only\": True},\n",
    "    {\"search_string\": \"Darf ich in Berlin noch rausgehen?\", \"location_string\": \"Berlin\"},\n",
    "    {\"search_string\": \"Wo kann ich mich in Berlin testen lassen?\", \"location_string\": \"Berlin\"},\n",
    "    {\"search_string\": \"Ist draußen Alkohol trinken in Berlin erlaubt?\", \"location_string\": \"Berlin\"},\n",
    "    {\"search_string\": \"Gibt es in Berlin eine Sperrstunde?\", \"location_string\": \"Berlin\"},\n",
    "    {\"search_string\": \"Darf ich in Greifswald noch rausgehen?\", \"location_string\": \"Greifswald\"},\n",
    "    {\"search_string\": \"Wo kann ich mich in Greifswald testen lassen?\", \"location_string\": \"Greifswald\"},\n",
    "    {\"search_string\": \"Ist draußen Alkohol trinken in Greifswald erlaubt?\", \"location_string\": \"Greifswald\"},\n",
    "    {\"search_string\": \"Gibt es in Greifswald eine Sperrstunde?\", \"location_string\": \"Greifswald\"}\n",
    "]"
   ]
  },
  {
   "cell_type": "code",
   "execution_count": null,
   "metadata": {
    "ExecuteTime": {
     "start_time": "2021-02-12T12:38:42.072Z"
    }
   },
   "outputs": [],
   "source": [
    "SEARCH_CONFIGS = [\n",
    "    {\"search_mode\": \"lexical_search\"},\n",
    "    {\"search_mode\": \"semantic_search\", \"model_name\": \"distiluse-base-multi\"},\n",
    "    {\"search_mode\": \"semantic_search\", \"model_name\": \"quora-distilbert-multi\"},\n",
    "    {\"search_mode\": \"semantic_search\", \"model_name\": \"paraphrase-xlm-r-multi\"},\n",
    "    {\"search_mode\": \"lexical_search_semantic_rerank\", \"model_name\": \"distiluse-base-multi\", \\\n",
    "    \"rerank_weights\": {\"query_weight\": 0.5, \"rescore_query_weight\": 0.5}},\n",
    "    {\"search_mode\": \"lexical_search_semantic_rerank\", \"model_name\": \"distiluse-base-multi\", \\\n",
    "    \"rerank_weights\": {\"query_weight\": 0.8, \"rescore_query_weight\": 0.2}},\n",
    "    {\"search_mode\": \"lexical_search_semantic_rerank\", \"model_name\": \"distiluse-base-multi\", \\\n",
    "    \"rerank_weights\": {\"query_weight\": 0.2, \"rescore_query_weight\": 0.8}},\n",
    "    {\"search_mode\": \"lexical_search_semantic_rerank\", \"model_name\": \"quora-distilbert-multi\", \\\n",
    "    \"rerank_weights\": {\"query_weight\": 0.5, \"rescore_query_weight\": 0.5}},\n",
    "]"
   ]
  },
  {
   "cell_type": "raw",
   "metadata": {
    "ExecuteTime": {
     "start_time": "2021-02-12T12:38:42.076Z"
    }
   },
   "source": [
    "def execute_search(search_params: dict, search_name: str, eval_data: dict):\n",
    "    try:\n",
    "        response = requests.get(MATCH_FAQS_API_URL, params=search_params)\n",
    "        response.raise_for_status()\n",
    "        response_dict = response.json()\n",
    "    except (RequestException, HTTPError) as e:\n",
    "        logger.error(str(e))\n",
    "        sys.exit(1)    \n",
    "\n",
    "    best_match_question = None\n",
    "    if response_dict[\"status\"] == 0:\n",
    "        best_match_question = response_dict[\"best_match\"][\"q_txt\"]\n",
    "\n",
    "    eval_data[search_name].append(best_match_question) "
   ]
  },
  {
   "cell_type": "code",
   "execution_count": null,
   "metadata": {
    "ExecuteTime": {
     "start_time": "2021-02-12T12:38:42.080Z"
    }
   },
   "outputs": [],
   "source": [
    "eval_data = {}\n",
    "\n",
    "for test_search in TEST_SEARCHES:\n",
    "    if test_search.get('location_string'):\n",
    "        search_name = f\"{test_search['search_string']} ({test_search['location_string']})\"\n",
    "    else:\n",
    "        search_name = f\"{test_search['search_string']} (nationwide)\"\n",
    "    eval_data[search_name] = []\n",
    "\n",
    "    for search_config in SEARCH_CONFIGS:\n",
    "        search_params = test_search.copy()\n",
    "        search_params.update(search_config)        \n",
    "        execute_search(search_params, search_name, eval_data)\n",
    "\n",
    "df_eval = pd.DataFrame.from_dict(eval_data, orient='index')\n",
    "df_eval.columns = [str(search_config) for search_config in SEARCH_CONFIGS]    \n",
    "display(df_eval)"
   ]
  }
 ],
 "metadata": {
  "kernelspec": {
   "display_name": "miniconda3-latest",
   "language": "python",
   "name": "miniconda3-latest"
  },
  "language_info": {
   "codemirror_mode": {
    "name": "ipython",
    "version": 3
   },
   "file_extension": ".py",
   "mimetype": "text/x-python",
   "name": "python",
   "nbconvert_exporter": "python",
   "pygments_lexer": "ipython3",
   "version": "3.8.5"
  },
  "varInspector": {
   "cols": {
    "lenName": 16,
    "lenType": 16,
    "lenVar": 40
   },
   "kernels_config": {
    "python": {
     "delete_cmd_postfix": "",
     "delete_cmd_prefix": "del ",
     "library": "var_list.py",
     "varRefreshCmd": "print(var_dic_list())"
    },
    "r": {
     "delete_cmd_postfix": ") ",
     "delete_cmd_prefix": "rm(",
     "library": "var_list.r",
     "varRefreshCmd": "cat(var_dic_list()) "
    }
   },
   "types_to_exclude": [
    "module",
    "function",
    "builtin_function_or_method",
    "instance",
    "_Feature"
   ],
   "window_display": false
  }
 },
 "nbformat": 4,
 "nbformat_minor": 4
}
